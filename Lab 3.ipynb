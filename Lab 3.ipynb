{
 "cells": [
  {
   "cell_type": "code",
   "execution_count": 20,
   "id": "3a259045",
   "metadata": {
    "scrolled": false
   },
   "outputs": [
    {
     "data": {
      "text/plain": [
       "<function matplotlib.pyplot.show(close=None, block=None)>"
      ]
     },
     "execution_count": 20,
     "metadata": {},
     "output_type": "execute_result"
    },
    {
     "data": {
      "image/png": "[encoded data removed]",
      "text/plain": [
       "<Figure size 432x288 with 1 Axes>"
      ]
     },
     "metadata": {
      "needs_background": "light"
     },
     "output_type": "display_data"
    }
   ],
   "source": [
    "import numpy as np \n",
    "import matplotlib.pyplot as plt\n",
    "\n",
    "def reading_x (name):\n",
    "    f=open (name, 'r')\n",
    "    Flag=True \n",
    "    x=[]\n",
    "    for line in f:\n",
    "        if Flag==False:\n",
    "            a=line.split()\n",
    "            x.append(float(a[0]))\n",
    "        Flag=False\n",
    "    f.close()\n",
    "    return x\n",
    "def reading_y (name):\n",
    "    f=open(name,'r')\n",
    "    Flag=True \n",
    "    y1=[]\n",
    "    y2=[]\n",
    "    y3=[]\n",
    "    y4=[]\n",
    "    y5=[]\n",
    "    for line in f:\n",
    "        if Flag==False:\n",
    "            a=line.split()\n",
    "            y1.append(float(a[1]))\n",
    "            y2.append(float(a[2]))\n",
    "            y3.append(float(a[3]))\n",
    "            y4.append(float(a[4]))\n",
    "            y5.append(float(a[5]))\n",
    "        Flag=False\n",
    "    f.close()\n",
    "    return y1,y2,y3,y4,y5\n",
    "x=reading_x('melting .txt')\n",
    "y1, y2, y3, y4, y5=reading_y('melting .txt')\n",
    "\n",
    "def curve(grades):\n",
    "    maximum = np.max(grades)  #макс значение из массива \n",
    "    minimum= np.min(grades)\n",
    "    change = maximum - minimum\n",
    "    a=np.argmax(grades)  #положение макс элемента \n",
    "    b=np.argmin(grades)\n",
    "    grades[a]=1 #макс требуемое значение элемента \n",
    "    grades[b]=0\n",
    "    for i in range(len(grades)):\n",
    "        if i!=a and i!=b:\n",
    "            grades[i]=(grades[i]-minimum)/change\n",
    "    return grades\n",
    "\n",
    "mass=[y1, y2, y3, y4, y5]\n",
    "for i in range (len(mass)):\n",
    "    grades=np.array(mass[i])\n",
    "    curve(grades)\n",
    "    plt.plot(x,grades,label=r'Флуоресценция'+str(i+1))\n",
    "    plt.legend(loc='best', fontsize=10)\n",
    "             \n",
    "             \n",
    "plt.show"
   ]
  },
  {
   "cell_type": "code",
   "execution_count": 19,
   "id": "99f9b4b6",
   "metadata": {},
   "outputs": [
    {
     "name": "stdout",
     "output_type": "stream",
     "text": [
      "[50.35 58.65 50.55 45.35 57.4 ]\n",
      "[39.61111111 55.5        51.55555556 53.55555556 49.94444444 58.5       ]\n"
     ]
    }
   ],
   "source": [
    "import numpy as np\n",
    "\n",
    "data1 = []\n",
    "with open(\"ex2_1.txt\") as f:\n",
    "    for line in f:\n",
    "        data1.append([float(x) for x in line.split()])\n",
    "\n",
    "data2 = []\n",
    "with open(\"ex2_2.txt\") as f:\n",
    "    for line in f:\n",
    "        data2.append([float(x) for x in line.split()])\n",
    "        \n",
    "print(np.array(data1).mean(axis=0)) #преобразование в массив и вычисление среднего \n",
    "print(np.array(data2).mean(axis=0))"
   ]
  },
  {
   "cell_type": "code",
   "execution_count": 28,
   "id": "3c7eb67f",
   "metadata": {},
   "outputs": [
    {
     "name": "stdout",
     "output_type": "stream",
     "text": [
      "суммa чисел в каждом столбце [34 34 34 34]\n",
      "суммa чисел в каждой строке [34 34 34 34]\n",
      "сумма чисел в левом верхнем углу 34\n",
      "сумма чисел в правом верхнем  углу 34\n",
      "сумма чисел в левом нижнем углу 34\n",
      "сумма чисел в правом нижнем углу 34\n",
      "сумма чисел в центре 34\n"
     ]
    }
   ],
   "source": [
    "square = np.array([\n",
    "    [16, 3, 2, 13],\n",
    "    [5, 10, 11, 8],\n",
    "    [9, 6, 7, 12],\n",
    "    [4, 15, 14, 1]\n",
    "])\n",
    "\n",
    "print('суммa чисел в каждом столбце',square.sum(axis = 0))\n",
    "print('суммa чисел в каждой строке',square.sum(axis = 1))\n",
    "print('сумма чисел в левом верхнем углу',square[:2, :2].sum(axis=1).sum(axis=0))\n",
    "print('сумма чисел в правом верхнем  углу',square[:2, 2:].sum(axis=1).sum(axis=0))\n",
    "print('сумма чисел в левом нижнем углу',square[2:, :2].sum(axis=1).sum(axis=0))\n",
    "print('сумма чисел в правом нижнем углу',square[2:, 2:].sum(axis=1).sum(axis=0))\n",
    "print('сумма чисел в центре',square[1: 3:, 1: 3:].sum(axis=1).sum(axis=0))"
   ]
  },
  {
   "cell_type": "code",
   "execution_count": 57,
   "id": "fc83bc6e",
   "metadata": {},
   "outputs": [
    {
     "name": "stdout",
     "output_type": "stream",
     "text": [
      "среднее 4382.08\n",
      "стандартное отклонение 1816.365239041972\n",
      "среднее_2 5071.064814814815\n",
      "стандартное отклонение_2 572.7614601590126\n"
     ]
    }
   ],
   "source": [
    "import numpy as np\n",
    "\n",
    "data= []\n",
    "with open(\"ex4.txt\") as f:\n",
    "    for line in f:\n",
    "        data.append([float(x) for x in line.split()])\n",
    "\n",
    "print('среднее', str(np.mean(data)))\n",
    "print('стандартное отклонение', np.std(data))\n",
    "      \n",
    "data.sort()\n",
    "x = [i for i in np.quantile(data, [0.25,0.5,0.75])]\n",
    "data2= []\n",
    "for i in data:\n",
    "    if i > (x[0] - 1.5 * (x[2] - x[0])) and i < (x[2] + 1.5 * (x[2] - x[0])):\n",
    "            data2.append(i)\n",
    "                  \n",
    "print('среднее_2', str(np.mean(data2)))\n",
    "print('стандартное отклонение_2', np.std(data2))\n"
   ]
  },
  {
   "cell_type": "code",
   "execution_count": null,
   "id": "e3b034dd",
   "metadata": {},
   "outputs": [],
   "source": []
  },
  {
   "cell_type": "code",
   "execution_count": null,
   "id": "5ae60cb0",
   "metadata": {},
   "outputs": [],
   "source": []
  },
  {
   "cell_type": "code",
   "execution_count": null,
   "id": "1d72c7f6",
   "metadata": {},
   "outputs": [],
   "source": [
    "\n"
   ]
  },
  {
   "cell_type": "code",
   "execution_count": null,
   "id": "eacdc8e2",
   "metadata": {},
   "outputs": [],
   "source": []
  }
 ],
 "metadata": {
  "kernelspec": {
   "display_name": "Python 3 (ipykernel)",
   "language": "python",
   "name": "python3"
  },
  "language_info": {
   "codemirror_mode": {
    "name": "ipython",
    "version": 3
   },
   "file_extension": ".py",
   "mimetype": "text/x-python",
   "name": "python",
   "nbconvert_exporter": "python",
   "pygments_lexer": "ipython3",
   "version": "3.9.7"
  }
 },
 "nbformat": 4,
 "nbformat_minor": 5
}
