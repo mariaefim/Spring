{
 "cells": [
  {
   "cell_type": "code",
   "execution_count": 16,
   "id": "e7c8ab17",
   "metadata": {},
   "outputs": [
    {
     "name": "stdout",
     "output_type": "stream",
     "text": [
      "отсортированные столбцы:  \n",
      " [[2 1 3]\n",
      " [7 4 5]\n",
      " [8 9 5]]\n",
      "транспонированный массив:  \n",
      " [[2 7 8]\n",
      " [1 4 9]\n",
      " [3 5 5]]\n",
      "горизонтальное объединение:  \n",
      " [[2 1 3 2 7 8]\n",
      " [7 4 5 1 4 9]\n",
      " [8 9 5 3 5 5]]\n",
      "вертикальное объединение:  \n",
      " [[2 1 3]\n",
      " [7 4 5]\n",
      " [8 9 5]\n",
      " [2 7 8]\n",
      " [1 4 9]\n",
      " [3 5 5]]\n",
      "объединение без оси:  \n",
      " [2 1 3 7 4 5 8 9 5 2 7 8 1 4 9 3 5 5]\n"
     ]
    }
   ],
   "source": [
    "data = np.array([\n",
    "    [7, 1, 5],\n",
    "    [8, 4, 5],\n",
    "    [2, 9, 3]\n",
    "])\n",
    "a=np.sort(data, axis=0)\n",
    "b=a.T\n",
    "c=np.hstack((a, b))\n",
    "d=np.vstack((a, b))\n",
    "e=np.concatenate((a, b), axis=None)\n",
    "\n",
    "print('отсортированные столбцы: ', '\\n', a)\n",
    "print('транспонированный массив: ', '\\n', b)\n",
    "print('горизонтальное объединение: ', '\\n', c)\n",
    "print('вертикальное объединение: ', '\\n', d)\n",
    "print('объединение без оси: ', '\\n', e)"
   ]
  },
  {
   "cell_type": "code",
   "execution_count": 7,
   "id": "9cd21fb3",
   "metadata": {},
   "outputs": [
    {
     "name": "stdout",
     "output_type": "stream",
     "text": [
      "2\n",
      "5\n",
      "6\n",
      "[5 6]\n"
     ]
    }
   ],
   "source": [
    "import numpy as np\n",
    "import math as m\n",
    "def what_type(a):\n",
    "    if np.amin(a) < 0:\n",
    "        if abs(np.amax(a)) < abs(np.amin(a)):\n",
    "            eltype=m.ceil(np.log(abs(np.amin(a)))/np.log(2))\n",
    "        else:\n",
    "            eltype=m.ceil(np.log(np.amax(a))/np.log(2))\n",
    "        dtype=np.int8\n",
    "    else:\n",
    "        eltype=m.ceil(np.log(np.amax(a))/np.log(2))\n",
    "        if eltype<11:\n",
    "            dtype=np.uint8\n",
    "        else:\n",
    "            dtype=np.uint64\n",
    "    return dtype\n",
    "\n",
    "n=int(input())\n",
    "a=[]\n",
    "for i in range (n):      \n",
    "    a.append(int(input()))\n",
    "dtype=what_type(a)\n",
    "row = np.array(a, dtype=dtype)\n",
    "print(row)"
   ]
  },
  {
   "cell_type": "code",
   "execution_count": 9,
   "id": "47ce18c8",
   "metadata": {
    "scrolled": true
   },
   "outputs": [
    {
     "name": "stdout",
     "output_type": "stream",
     "text": [
      "заказанное количество на 5 апрел: 343\n",
      "имена заказчиков на 9 апреля: ['Dasha' 'Liza']\n"
     ]
    }
   ],
   "source": [
    "import numpy as np\n",
    "\n",
    "data_file=[]\n",
    "with open(\"Cell_culture.txt\") as f:\n",
    "    for line in f:\n",
    "        data_file.append (tuple([str(x) for x in line.split('\\t')]))\n",
    "        \n",
    "cell_data=[]   \n",
    "cell_data = np.array([data_file\n",
    "], dtype=[(\"date\", str, 10), (\"name\", str, 10), (\"volume\", int), (\"comment\", str, 20)])\n",
    "\n",
    "print('заказанное количество на 5 апрел:', sum(cell_data[cell_data[\"date\"] =='5-Apr'][\"volume\"]))\n",
    "print('имена заказчиков на 9 апреля:', cell_data[cell_data[\"date\"] == '9-Apr'][\"name\"])\n",
    "\n"
   ]
  },
  {
   "cell_type": "markdown",
   "id": "acc1ae4b",
   "metadata": {},
   "source": []
  },
  {
   "cell_type": "code",
   "execution_count": null,
   "id": "59bbeb6b",
   "metadata": {},
   "outputs": [],
   "source": []
  },
  {
   "cell_type": "code",
   "execution_count": null,
   "id": "62d8d039",
   "metadata": {},
   "outputs": [],
   "source": [
    "\n"
   ]
  },
  {
   "cell_type": "code",
   "execution_count": null,
   "id": "ea8f5622",
   "metadata": {},
   "outputs": [],
   "source": []
  }
 ],
 "metadata": {
  "kernelspec": {
   "display_name": "Python 3 (ipykernel)",
   "language": "python",
   "name": "python3"
  },
  "language_info": {
   "codemirror_mode": {
    "name": "ipython",
    "version": 3
   },
   "file_extension": ".py",
   "mimetype": "text/x-python",
   "name": "python",
   "nbconvert_exporter": "python",
   "pygments_lexer": "ipython3",
   "version": "3.9.7"
  }
 },
 "nbformat": 4,
 "nbformat_minor": 5
}
