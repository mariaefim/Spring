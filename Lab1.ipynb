{
 "cells": [
  {
   "cell_type": "markdown",
   "metadata": {},
   "source": [
    "# Определения\n",
    "\n",
    "**Случайная величина** — переменная, значения которой представляют исходы некоторого эксперимента. Её значение неизвестно до эксперимента, однако может быть известно распределение.\n",
    "\n",
    "**Наблюдения** — записанные данные о значениях случайной переменной.\n",
    "\n",
    "## Типы переменных\n",
    "\n",
    "<span style=\"color:green\">**Качественные переменные**</span>\n",
    "\n",
    "**Номинальные переменные** показывают принадлежность к какому-либо классу; ничего об отношениях классов сказать нельзя. Пример — номера на футболках спортсменов, цвет глаз дрозофил.\n",
    "\n",
    "**Порядковые (ординальные, ранговые) переменные** показывают степень проявления какого-либо свойства и могут быть упорядочены. Пример — оценка качества обслуживания.\n",
    "\n",
    "<span style=\"color:green\">**Количественные переменные**</span>\n",
    "\n",
    "**Интервальные переменные** позволяют не только упорядочивать объекты измерения, но и численно выразить и сравнить разности значений переменных. Пример — градусы Цельсия.\n",
    "\n",
    "**Относительные переменные** позволяют численно выражать и сравнивать отношения переменных. Пример — градусы Кельвина, масса"
   ]
  },
  {
   "cell_type": "markdown",
   "metadata": {},
   "source": [
    "# Способы описания данных\n",
    "\n",
    "## Численные\n",
    "\n",
    "### Номинальные переменные\n",
    "\n",
    "**Таблица**\n",
    "\n",
    "|Статус|Пероральное введение|Внутривенное введение|Нет введения|\n",
    "|------|--------------------|---------------------|------------|\n",
    "|Живые |7|5|3|\n",
    "|Мёртвые|3|7|12|\n",
    "\n",
    "**Натуральные числа по числу классов**\n",
    "\n",
    "|Образец №|Жив?|\n",
    "|---|---|\n",
    "|1|1|\n",
    "|7|0|\n",
    "|13|1|\n",
    "\n",
    "**Вектор из 0 и 1**\n",
    "\n",
    "Дни недели\n",
    "- Понедельник (1, 0, 0, 0, 0, 0)\n",
    "- Вторник (0, 1, 0, 0, 0, 0)\n",
    "- Среда (0, 0, 1, 0, 0, 0)\n",
    "- Четверг (0, 0, 0, 1, 0, 0)\n",
    "- Пятница (0, 0, 0, 0, 1, 0)\n",
    "- Суббота (0, 0, 0, 0, 0, 1)\n",
    "- Воскресенье (0, 0, 0, 0, 0, 0)\n",
    "\n",
    "### Количественные переменные\n",
    "\n",
    "**Меры центра**\n",
    "\n",
    "- Среднее *x<sub>mean</sub>*=(*x*<sub>1</sub>+*x*<sub>2</sub>+...+*x*<sub>*n*</sub>)/n\n",
    "- Медиана\n",
    "<img src=\"median.png\" width=400/>"
   ]
  },
  {
   "cell_type": "markdown",
   "metadata": {},
   "source": [
    "## Упражнение 1\n",
    "\n",
    "Напишите функцию, которая возвращает медиану непустого упорядоченного списка, и продемонстрируйте её корректность её работы"
   ]
  },
  {
   "cell_type": "code",
   "execution_count": 14,
   "metadata": {},
   "outputs": [
    {
     "name": "stdout",
     "output_type": "stream",
     "text": [
      "4.0\n"
     ]
    }
   ],
   "source": [
    "import numpy as np\n",
    "data=[1,3,5,7]\n",
    "x=np.median(data)\n",
    "print (x)"
   ]
  },
  {
   "cell_type": "markdown",
   "metadata": {},
   "source": [
    "**Меры разброса**\n",
    "\n",
    "- несмещённая дисперсия и среднеквадратичное отклонение\n",
    "<img src=\"dispersion.png\" width=200>\n",
    "- межквартильный размах\n",
    "<img src=\"iq.png\" width=400>"
   ]
  },
  {
   "cell_type": "markdown",
   "metadata": {},
   "source": [
    "## Упражнение 2\n",
    "Напишите функцию, которая печатает среднеквадратичное отклонение и межквартильный размах непустого упорядоченного списка, и продемонстрируйте её корректность её работы"
   ]
  },
  {
   "cell_type": "code",
   "execution_count": 124,
   "metadata": {},
   "outputs": [
    {
     "name": "stdout",
     "output_type": "stream",
     "text": [
      "Значение сигмы: 1.0\n",
      "Значение Q3: 3.0\n"
     ]
    }
   ],
   "source": [
    "import numpy as np\n",
    "data=[1, 2, 3 , 4, 5]\n",
    "a=len(data)\n",
    "if a%2 == 0:\n",
    "    print(data[a//2:], Q2)\n",
    "    Q1=np.median(data[:a//2])\n",
    "    Q2=np.median(data[a//2:])\n",
    "else:\n",
    "    Q1=np.median(data[0:a//2])\n",
    "    Q2=np.median(data[a//2+1:])\n",
    "    \n",
    "Q3=Q2-Q1\n",
    "\n",
    "s=sum(data)/a #среднее арифметическое данных\n",
    "f=0\n",
    "for i in data:\n",
    "    f+= (i-s)**2\n",
    "    D=f/a-1\n",
    "    \n",
    "y= D**0.5 #sigma\n",
    "    \n",
    "    \n",
    "    \n",
    "print (\"Значение сигмы:\",y)       \n",
    "print (\"Значение Q3:\",Q3)"
   ]
  },
  {
   "cell_type": "markdown",
   "metadata": {},
   "source": [
    "## Графические методы\n",
    "\n",
    "### Номинальные переменные\n",
    "\n",
    "- Столбчатая диаграмма"
   ]
  },
  {
   "cell_type": "code",
   "execution_count": 31,
   "metadata": {},
   "outputs": [
    {
     "data": {
      "image/png": "[encoded data removed]",
      "text/plain": [
       "<Figure size 432x288 with 1 Axes>"
      ]
     },
     "metadata": {
      "needs_background": "light"
     },
     "output_type": "display_data"
    }
   ],
   "source": [
    "import matplotlib.pyplot as plt\n",
    "colors = ['white', 'pink', 'red']\n",
    "labels = ['белые', 'розовые', 'красные']\n",
    "x = [1, 2, 3]\n",
    "y = [37, 75, 94]\n",
    "plt.bar(x, y, color=colors, edgecolor='k', tick_label=labels)\n",
    "plt.grid(True, axis='y')"
   ]
  },
  {
   "cell_type": "markdown",
   "metadata": {},
   "source": [
    "- Круговая диаграмма"
   ]
  },
  {
   "cell_type": "code",
   "execution_count": 32,
   "metadata": {},
   "outputs": [
    {
     "data": {
      "image/png": "[encoded data removed]",
      "text/plain": [
       "<Figure size 432x288 with 1 Axes>"
      ]
     },
     "metadata": {},
     "output_type": "display_data"
    }
   ],
   "source": [
    "data = [33, 25, 20, 12, 10]\n",
    "plt.title('Название', size=14)\n",
    "plt.pie(data, labels=('Класс 1', 'Класс 2', 'Класс 3', 'Класс 4', 'Класс 5'))\n",
    "plt.show()"
   ]
  },
  {
   "cell_type": "markdown",
   "metadata": {},
   "source": [
    "## Упражнение 3\n",
    "\n",
    "В президентских выборах участвовало 5 кандидатов: А., Б., В., Г., Д. Социологическая служба провела опрос за месяц до выборов, за неделю до выборов и экзит-полл.\n",
    "\n",
    "|Опрос|А. |Б. |В. |Г. |Д. |\n",
    "|-----|---|---|---|---|---|\n",
    "|#1   | 16| 18| 20| 22| 24|\n",
    "|#2   | 20| 20| 18| 22| 20|\n",
    "|#3   | 24| 22| 20| 18| 16|\n",
    "\n",
    "Постройте круговые и столбчатые диаграммы результатов опросов. В комментариях к коду напишите, какие диаграммы показались Вам более наглядными."
   ]
  },
  {
   "cell_type": "code",
   "execution_count": 59,
   "metadata": {},
   "outputs": [
    {
     "data": {
      "image/png": "[encoded data removed]",
      "text/plain": [
       "<Figure size 432x288 with 1 Axes>"
      ]
     },
     "metadata": {},
     "output_type": "display_data"
    },
    {
     "data": {
      "image/png": "[encoded data removed]",
      "text/plain": [
       "<Figure size 432x288 with 1 Axes>"
      ]
     },
     "metadata": {},
     "output_type": "display_data"
    },
    {
     "data": {
      "image/png": "[encoded data removed]",
      "text/plain": [
       "<Figure size 432x288 with 1 Axes>"
      ]
     },
     "metadata": {},
     "output_type": "display_data"
    }
   ],
   "source": [
    "import matplotlib.pyplot as plt\n",
    "\n",
    "sp = plt.subplot(231)\n",
    "plt.title(r'$Опрос 1$')\n",
    "a=16\n",
    "b=18\n",
    "c=20\n",
    "d=22\n",
    "e=24\n",
    "data = [a, b, c, d, e]\n",
    "plt.pie(data, labels=('A', 'Б', 'В', 'Г', 'Д'))\n",
    "plt.show()\n",
    "\n",
    "sp = plt.subplot(233)\n",
    "plt.title(r'$Опрос 2$')\n",
    "a=20\n",
    "b=20\n",
    "c=18\n",
    "d=22\n",
    "e=20\n",
    "data = [a, b, c, d, e]\n",
    "plt.pie(data, labels=('A', 'Б', 'В', 'Г', 'Д'))\n",
    "plt.show()\n",
    "\n",
    "sp = plt.subplot(234)\n",
    "plt.title(r'$Опрос 3$')\n",
    "a=24\n",
    "b=22\n",
    "c=20\n",
    "d=18\n",
    "e=16\n",
    "data = [a, b, c, d, e]\n",
    "plt.pie(data, labels=('A', 'Б', 'В', 'Г', 'Д'))\n",
    "plt.show()"
   ]
  },
  {
   "cell_type": "code",
   "execution_count": 86,
   "metadata": {},
   "outputs": [
    {
     "data": {
      "image/png": "[encoded data removed]",
      "text/plain": [
       "<Figure size 432x288 with 6 Axes>"
      ]
     },
     "metadata": {
      "needs_background": "light"
     },
     "output_type": "display_data"
    }
   ],
   "source": [
    "import matplotlib.pyplot as plt\n",
    "\n",
    "sp = plt.subplot(2,5,1)\n",
    "plt.title(r'$Опрос 1$')\n",
    "colors = ['white','orange','red', 'royalblue','green']\n",
    "labels = ['А', 'Б', 'В', 'Г', 'Д']\n",
    "x = [1, 2, 3, 4, 5]\n",
    "a=16\n",
    "b=18\n",
    "c=20\n",
    "d=22\n",
    "e=24\n",
    "y = [a, b, c, d, e]\n",
    "plt.bar(x, y, color=colors, edgecolor='k', tick_label=labels)\n",
    "plt.grid(True, axis='y')\n",
    "\n",
    "sp = plt.subplot(2,5,3)\n",
    "plt.title(r'$Опрос 2$')\n",
    "colors = ['white','orange','red', 'royalblue','green']\n",
    "labels = ['А', 'Б', 'В', 'Г', 'Д']\n",
    "x = [1, 2, 3, 4, 5]\n",
    "a=20\n",
    "b=20\n",
    "c=18\n",
    "d=22\n",
    "e=20\n",
    "y = [a, b, c, d, e]\n",
    "plt.bar(x, y, color=colors, edgecolor='k', tick_label=labels)\n",
    "plt.grid(True, axis='y')\n",
    "\n",
    "sp = plt.subplot(2,5,5)\n",
    "plt.title(r'$Опрос 3$')\n",
    "colors = ['white','orange','red', 'royalblue','green']\n",
    "labels = ['А', 'Б', 'В', 'Г', 'Д']\n",
    "x = [1, 2, 3, 4, 5]\n",
    "a=24\n",
    "b=22\n",
    "c=20\n",
    "d=18\n",
    "e=16\n",
    "y = [a, b, c, d, e]\n",
    "plt.bar(x, y, color=colors, edgecolor='k', tick_label=labels)\n",
    "plt.grid(True, axis='y')\n",
    "\n",
    "import matplotlib.pyplot as plt\n",
    "\n",
    "sp = plt.subplot(2,5,6)\n",
    "plt.title(r'$Опрос 1$')\n",
    "a=16\n",
    "b=18\n",
    "c=20\n",
    "d=22\n",
    "e=24\n",
    "data = [a, b, c, d, e]\n",
    "plt.pie(data, labels=('A', 'Б', 'В', 'Г', 'Д'))\n",
    "\n",
    "\n",
    "sp = plt.subplot(2,5,8)\n",
    "plt.title(r'$Опрос 2$')\n",
    "a=20\n",
    "b=20\n",
    "c=18\n",
    "d=22\n",
    "e=20\n",
    "data = [a, b, c, d, e]\n",
    "plt.pie(data, labels=('A', 'Б', 'В', 'Г', 'Д'))\n",
    "\n",
    "\n",
    "sp = plt.subplot(2,5,10)\n",
    "plt.title(r'$Опрос 3$')\n",
    "a=24\n",
    "b=22\n",
    "c=20\n",
    "d=18\n",
    "e=16\n",
    "data = [a, b, c, d, e]\n",
    "plt.pie(data, labels=('A', 'Б', 'В', 'Г', 'Д'))\n",
    "\n",
    "\n",
    "plt.show()\n"
   ]
  },
  {
   "cell_type": "markdown",
   "metadata": {},
   "source": [
    "# "
   ]
  }
 ],
 "metadata": {
  "kernelspec": {
   "display_name": "Python 3 (ipykernel)",
   "language": "python",
   "name": "python3"
  },
  "language_info": {
   "codemirror_mode": {
    "name": "ipython",
    "version": 3
   },
   "file_extension": ".py",
   "mimetype": "text/x-python",
   "name": "python",
   "nbconvert_exporter": "python",
   "pygments_lexer": "ipython3",
   "version": "3.9.7"
  }
 },
 "nbformat": 4,
 "nbformat_minor": 4
}
